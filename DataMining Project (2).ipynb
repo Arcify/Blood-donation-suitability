{
  "cells":[
    {
      "cell_type":"code",
      "source":[
        "import numpy as np\n",
        "import matplotlib.pyplot as plt\n",
        "import pandas as pd"
      ],
      "execution_count":1,
      "outputs":[
        
      ],
      "metadata":{
        "datalore":{
          "sheet_delimiter":false
        }
      }
    },
    {
      "cell_type":"markdown",
      "source":[
        "## Preprocessing"
      ],
      "attachments":{
        
      },
      "metadata":{
        "datalore":{
          "sheet_delimiter":false
        }
      }
    },
    {
      "cell_type":"code",
      "source":[
        "#importing the data\n",
        "data = pd.read_csv(\"HCV.csv\")\n",
        "#removing the attribute patient ID from the data\n",
        "data = data.drop(data.columns[0], axis = 1)\n",
        "#removing all suspect blood donors\n",
        "data = data[data.Category != \"0s=suspect Blood Donor\"]"
      ],
      "execution_count":2,
      "outputs":[
        
      ],
      "metadata":{
        "datalore":{
          "sheet_delimiter":false
        }
      }
    },
    {
      "cell_type":"code",
      "source":[
        "#storing only the numerical values\n",
        "X = data.iloc[:, 1:].values\n",
        "y = data.iloc[:, 0].values\n",
        "print(X[-3:])\n",
        "#storing the attribute labels\n",
        "attribute_labels = [\"Age\", \"Male\", \"Female\", \"ALB\", \"ALP\", \"ALT\", \"AST\", \"BIL\", \"CHE\", \"CHOL\", \"CREA\", \"GGT\", \"PROT\"]"
      ],
      "execution_count":3,
      "outputs":[
        {
          "name":"stdout",
          "text":[
            "[[64 'f' 29.0 87.3 3.5 99.0 48.0 1.66 3.63 66.7 64.2 82.0]\n",
            " [46 'f' 33.0 nan 39.0 62.0 20.0 3.56 4.2 52.0 50.0 71.0]\n",
            " [59 'f' 36.0 nan 100.0 80.0 12.0 9.07 5.3 67.0 34.0 68.0]]\n"
          ],
          "output_type":"stream"
        }
      ],
      "metadata":{
        "datalore":{
          "sheet_delimiter":false
        }
      }
    },
    {
      "cell_type":"code",
      "source":[
        "from sklearn.impute import SimpleImputer\n",
        "#replace all missing values using mean imputation\n",
        "imputer = SimpleImputer(missing_values = np.nan)\n",
        "imputer = imputer.fit(X[:, 2:])\n",
        "X[:, 2:] = imputer.transform(X[:, 2:])\n",
        "print(X[:3])\n",
        "print(y)\n"
      ],
      "execution_count":4,
      "outputs":[
        {
          "name":"stdout",
          "text":[
            "[[32 'm' 38.5 52.5 7.7 22.1 7.5 6.93 3.23 106.0 12.1 69.0]\n",
            " [32 'm' 38.5 70.3 18.0 24.7 3.9 11.17 4.8 74.0 15.6 76.5]\n",
            " [32 'm' 46.9 74.7 36.2 52.6 6.1 8.84 5.2 86.0 33.2 79.3]]\n",
            "['0=Blood Donor' '0=Blood Donor' '0=Blood Donor' '0=Blood Donor'\n",
            " '0=Blood Donor' '0=Blood Donor' '0=Blood Donor' '0=Blood Donor'\n",
            " '0=Blood Donor' '0=Blood Donor' '0=Blood Donor' '0=Blood Donor'\n",
            " '0=Blood Donor' '0=Blood Donor' '0=Blood Donor' '0=Blood Donor'\n",
            " '0=Blood Donor' '0=Blood Donor' '0=Blood Donor' '0=Blood Donor'\n",
            " '0=Blood Donor' '0=Blood Donor' '0=Blood Donor' '0=Blood Donor'\n",
            " '0=Blood Donor' '0=Blood Donor' '0=Blood Donor' '0=Blood Donor'\n",
            " '0=Blood Donor' '0=Blood Donor' '0=Blood Donor' '0=Blood Donor'\n",
            " '0=Blood Donor' '0=Blood Donor' '0=Blood Donor' '0=Blood Donor'\n",
            " '0=Blood Donor' '0=Blood Donor' '0=Blood Donor' '0=Blood Donor'\n",
            " '0=Blood Donor' '0=Blood Donor' '0=Blood Donor' '0=Blood Donor'\n",
            " '0=Blood Donor' '0=Blood Donor' '0=Blood Donor' '0=Blood Donor'\n",
            " '0=Blood Donor' '0=Blood Donor' '0=Blood Donor' '0=Blood Donor'\n",
            " '0=Blood Donor' '0=Blood Donor' '0=Blood Donor' '0=Blood Donor'\n",
            " '0=Blood Donor' '0=Blood Donor' '0=Blood Donor' '0=Blood Donor'\n",
            " '0=Blood Donor' '0=Blood Donor' '0=Blood Donor' '0=Blood Donor'\n",
            " '0=Blood Donor' '0=Blood Donor' '0=Blood Donor' '0=Blood Donor'\n",
            " '0=Blood Donor' '0=Blood Donor' '0=Blood Donor' '0=Blood Donor'\n",
            " '0=Blood Donor' '0=Blood Donor' '0=Blood Donor' '0=Blood Donor'\n",
            " '0=Blood Donor' '0=Blood Donor' '0=Blood Donor' '0=Blood Donor'\n",
            " '0=Blood Donor' '0=Blood Donor' '0=Blood Donor' '0=Blood Donor'\n",
            " '0=Blood Donor' '0=Blood Donor' '0=Blood Donor' '0=Blood Donor'\n",
            " '0=Blood Donor' '0=Blood Donor' '0=Blood Donor' '0=Blood Donor'\n",
            " '0=Blood Donor' '0=Blood Donor' '0=Blood Donor' '0=Blood Donor'\n",
            " '0=Blood Donor' '0=Blood Donor' '0=Blood Donor' '0=Blood Donor'\n",
            " '0=Blood Donor' '0=Blood Donor' '0=Blood Donor' '0=Blood Donor'\n",
            " '0=Blood Donor' '0=Blood Donor' '0=Blood Donor' '0=Blood Donor'\n",
            " '0=Blood Donor' '0=Blood Donor' '0=Blood Donor' '0=Blood Donor'\n",
            " '0=Blood Donor' '0=Blood Donor' '0=Blood Donor' '0=Blood Donor'\n",
            " '0=Blood Donor' '0=Blood Donor' '0=Blood Donor' '0=Blood Donor'\n",
            " '0=Blood Donor' '0=Blood Donor' '0=Blood Donor' '0=Blood Donor'\n",
            " '0=Blood Donor' '0=Blood Donor' '0=Blood Donor' '0=Blood Donor'\n",
            " '0=Blood Donor' '0=Blood Donor' '0=Blood Donor' '0=Blood Donor'\n",
            " '0=Blood Donor' '0=Blood Donor' '0=Blood Donor' '0=Blood Donor'\n",
            " '0=Blood Donor' '0=Blood Donor' '0=Blood Donor' '0=Blood Donor'\n",
            " '0=Blood Donor' '0=Blood Donor' '0=Blood Donor' '0=Blood Donor'\n",
            " '0=Blood Donor' '0=Blood Donor' '0=Blood Donor' '0=Blood Donor'\n",
            " '0=Blood Donor' '0=Blood Donor' '0=Blood Donor' '0=Blood Donor'\n",
            " '0=Blood Donor' '0=Blood Donor' '0=Blood Donor' '0=Blood Donor'\n",
            " '0=Blood Donor' '0=Blood Donor' '0=Blood Donor' '0=Blood Donor'\n",
            " '0=Blood Donor' '0=Blood Donor' '0=Blood Donor' '0=Blood Donor'\n",
            " '0=Blood Donor' '0=Blood Donor' '0=Blood Donor' '0=Blood Donor'\n",
            " '0=Blood Donor' '0=Blood Donor' '0=Blood Donor' '0=Blood Donor'\n",
            " '0=Blood Donor' '0=Blood Donor' '0=Blood Donor' '0=Blood Donor'\n",
            " '0=Blood Donor' '0=Blood Donor' '0=Blood Donor' '0=Blood Donor'\n",
            " '0=Blood Donor' '0=Blood Donor' '0=Blood Donor' '0=Blood Donor'\n",
            " '0=Blood Donor' '0=Blood Donor' '0=Blood Donor' '0=Blood Donor'\n",
            " '0=Blood Donor' '0=Blood Donor' '0=Blood Donor' '0=Blood Donor'\n",
            " '0=Blood Donor' '0=Blood Donor' '0=Blood Donor' '0=Blood Donor'\n",
            " '0=Blood Donor' '0=Blood Donor' '0=Blood Donor' '0=Blood Donor'\n",
            " '0=Blood Donor' '0=Blood Donor' '0=Blood Donor' '0=Blood Donor'\n",
            " '0=Blood Donor' '0=Blood Donor' '0=Blood Donor' '0=Blood Donor'\n",
            " '0=Blood Donor' '0=Blood Donor' '0=Blood Donor' '0=Blood Donor'\n",
            " '0=Blood Donor' '0=Blood Donor' '0=Blood Donor' '0=Blood Donor'\n",
            " '0=Blood Donor' '0=Blood Donor' '0=Blood Donor' '0=Blood Donor'\n",
            " '0=Blood Donor' '0=Blood Donor' '0=Blood Donor' '0=Blood Donor'\n",
            " '0=Blood Donor' '0=Blood Donor' '0=Blood Donor' '0=Blood Donor'\n",
            " '0=Blood Donor' '0=Blood Donor' '0=Blood Donor' '0=Blood Donor'\n",
            " '0=Blood Donor' '0=Blood Donor' '0=Blood Donor' '0=Blood Donor'\n",
            " '0=Blood Donor' '0=Blood Donor' '0=Blood Donor' '0=Blood Donor'\n",
            " '0=Blood Donor' '0=Blood Donor' '0=Blood Donor' '0=Blood Donor'\n",
            " '0=Blood Donor' '0=Blood Donor' '0=Blood Donor' '0=Blood Donor'\n",
            " '0=Blood Donor' '0=Blood Donor' '0=Blood Donor' '0=Blood Donor'\n",
            " '0=Blood Donor' '0=Blood Donor' '0=Blood Donor' '0=Blood Donor'\n",
            " '0=Blood Donor' '0=Blood Donor' '0=Blood Donor' '0=Blood Donor'\n",
            " '0=Blood Donor' '0=Blood Donor' '0=Blood Donor' '0=Blood Donor'\n",
            " '0=Blood Donor' '0=Blood Donor' '0=Blood Donor' '0=Blood Donor'\n",
            " '0=Blood Donor' '0=Blood Donor' '0=Blood Donor' '0=Blood Donor'\n",
            " '0=Blood Donor' '0=Blood Donor' '0=Blood Donor' '0=Blood Donor'\n",
            " '0=Blood Donor' '0=Blood Donor' '0=Blood Donor' '0=Blood Donor'\n",
            " '0=Blood Donor' '0=Blood Donor' '0=Blood Donor' '0=Blood Donor'\n",
            " '0=Blood Donor' '0=Blood Donor' '0=Blood Donor' '0=Blood Donor'\n",
            " '0=Blood Donor' '0=Blood Donor' '0=Blood Donor' '0=Blood Donor'\n",
            " '0=Blood Donor' '0=Blood Donor' '0=Blood Donor' '0=Blood Donor'\n",
            " '0=Blood Donor' '0=Blood Donor' '0=Blood Donor' '0=Blood Donor'\n",
            " '0=Blood Donor' '0=Blood Donor' '0=Blood Donor' '0=Blood Donor'\n",
            " '0=Blood Donor' '0=Blood Donor' '0=Blood Donor' '0=Blood Donor'\n",
            " '0=Blood Donor' '0=Blood Donor' '0=Blood Donor' '0=Blood Donor'\n",
            " '0=Blood Donor' '0=Blood Donor' '0=Blood Donor' '0=Blood Donor'\n",
            " '0=Blood Donor' '0=Blood Donor' '0=Blood Donor' '0=Blood Donor'\n",
            " '0=Blood Donor' '0=Blood Donor' '0=Blood Donor' '0=Blood Donor'\n",
            " '0=Blood Donor' '0=Blood Donor' '0=Blood Donor' '0=Blood Donor'\n",
            " '0=Blood Donor' '0=Blood Donor' '0=Blood Donor' '0=Blood Donor'\n",
            " '0=Blood Donor' '0=Blood Donor' '0=Blood Donor' '0=Blood Donor'\n",
            " '0=Blood Donor' '0=Blood Donor' '0=Blood Donor' '0=Blood Donor'\n",
            " '0=Blood Donor' '0=Blood Donor' '0=Blood Donor' '0=Blood Donor'\n",
            " '0=Blood Donor' '0=Blood Donor' '0=Blood Donor' '0=Blood Donor'\n",
            " '0=Blood Donor' '0=Blood Donor' '0=Blood Donor' '0=Blood Donor'\n",
            " '0=Blood Donor' '0=Blood Donor' '0=Blood Donor' '0=Blood Donor'\n",
            " '0=Blood Donor' '0=Blood Donor' '0=Blood Donor' '0=Blood Donor'\n",
            " '0=Blood Donor' '0=Blood Donor' '0=Blood Donor' '0=Blood Donor'\n",
            " '0=Blood Donor' '0=Blood Donor' '0=Blood Donor' '0=Blood Donor'\n",
            " '0=Blood Donor' '0=Blood Donor' '0=Blood Donor' '0=Blood Donor'\n",
            " '0=Blood Donor' '0=Blood Donor' '0=Blood Donor' '0=Blood Donor'\n",
            " '0=Blood Donor' '0=Blood Donor' '0=Blood Donor' '0=Blood Donor'\n",
            " '0=Blood Donor' '0=Blood Donor' '0=Blood Donor' '0=Blood Donor'\n",
            " '0=Blood Donor' '0=Blood Donor' '0=Blood Donor' '0=Blood Donor'\n",
            " '0=Blood Donor' '0=Blood Donor' '0=Blood Donor' '0=Blood Donor'\n",
            " '0=Blood Donor' '0=Blood Donor' '0=Blood Donor' '0=Blood Donor'\n",
            " '0=Blood Donor' '0=Blood Donor' '0=Blood Donor' '0=Blood Donor'\n",
            " '0=Blood Donor' '0=Blood Donor' '0=Blood Donor' '0=Blood Donor'\n",
            " '0=Blood Donor' '0=Blood Donor' '0=Blood Donor' '0=Blood Donor'\n",
            " '0=Blood Donor' '0=Blood Donor' '0=Blood Donor' '0=Blood Donor'\n",
            " '0=Blood Donor' '0=Blood Donor' '0=Blood Donor' '0=Blood Donor'\n",
            " '0=Blood Donor' '0=Blood Donor' '0=Blood Donor' '0=Blood Donor'\n",
            " '0=Blood Donor' '0=Blood Donor' '0=Blood Donor' '0=Blood Donor'\n",
            " '0=Blood Donor' '0=Blood Donor' '0=Blood Donor' '0=Blood Donor'\n",
            " '0=Blood Donor' '0=Blood Donor' '0=Blood Donor' '0=Blood Donor'\n",
            " '0=Blood Donor' '0=Blood Donor' '0=Blood Donor' '0=Blood Donor'\n",
            " '0=Blood Donor' '0=Blood Donor' '0=Blood Donor' '0=Blood Donor'\n",
            " '0=Blood Donor' '0=Blood Donor' '0=Blood Donor' '0=Blood Donor'\n",
            " '0=Blood Donor' '0=Blood Donor' '0=Blood Donor' '0=Blood Donor'\n",
            " '0=Blood Donor' '0=Blood Donor' '0=Blood Donor' '0=Blood Donor'\n",
            " '0=Blood Donor' '0=Blood Donor' '0=Blood Donor' '0=Blood Donor'\n",
            " '0=Blood Donor' '0=Blood Donor' '0=Blood Donor' '0=Blood Donor'\n",
            " '0=Blood Donor' '0=Blood Donor' '0=Blood Donor' '0=Blood Donor'\n",
            " '0=Blood Donor' '0=Blood Donor' '0=Blood Donor' '0=Blood Donor'\n",
            " '0=Blood Donor' '0=Blood Donor' '0=Blood Donor' '0=Blood Donor'\n",
            " '0=Blood Donor' '0=Blood Donor' '0=Blood Donor' '0=Blood Donor'\n",
            " '0=Blood Donor' '0=Blood Donor' '0=Blood Donor' '0=Blood Donor'\n",
            " '0=Blood Donor' '0=Blood Donor' '0=Blood Donor' '0=Blood Donor'\n",
            " '0=Blood Donor' '0=Blood Donor' '0=Blood Donor' '0=Blood Donor'\n",
            " '0=Blood Donor' '0=Blood Donor' '0=Blood Donor' '0=Blood Donor'\n",
            " '0=Blood Donor' '0=Blood Donor' '0=Blood Donor' '0=Blood Donor'\n",
            " '0=Blood Donor' '0=Blood Donor' '0=Blood Donor' '0=Blood Donor'\n",
            " '0=Blood Donor' '0=Blood Donor' '0=Blood Donor' '0=Blood Donor'\n",
            " '0=Blood Donor' '0=Blood Donor' '0=Blood Donor' '0=Blood Donor'\n",
            " '0=Blood Donor' '0=Blood Donor' '0=Blood Donor' '0=Blood Donor'\n",
            " '0=Blood Donor' '0=Blood Donor' '0=Blood Donor' '0=Blood Donor'\n",
            " '0=Blood Donor' '0=Blood Donor' '0=Blood Donor' '0=Blood Donor'\n",
            " '0=Blood Donor' '0=Blood Donor' '0=Blood Donor' '0=Blood Donor'\n",
            " '0=Blood Donor' '0=Blood Donor' '0=Blood Donor' '0=Blood Donor'\n",
            " '0=Blood Donor' '0=Blood Donor' '0=Blood Donor' '0=Blood Donor'\n",
            " '0=Blood Donor' '1=Hepatitis' '1=Hepatitis' '1=Hepatitis' '1=Hepatitis'\n",
            " '1=Hepatitis' '1=Hepatitis' '1=Hepatitis' '1=Hepatitis' '1=Hepatitis'\n",
            " '1=Hepatitis' '1=Hepatitis' '1=Hepatitis' '1=Hepatitis' '1=Hepatitis'\n",
            " '1=Hepatitis' '1=Hepatitis' '1=Hepatitis' '1=Hepatitis' '1=Hepatitis'\n",
            " '1=Hepatitis' '1=Hepatitis' '1=Hepatitis' '1=Hepatitis' '1=Hepatitis'\n",
            " '2=Fibrosis' '2=Fibrosis' '2=Fibrosis' '2=Fibrosis' '2=Fibrosis'\n",
            " '2=Fibrosis' '2=Fibrosis' '2=Fibrosis' '2=Fibrosis' '2=Fibrosis'\n",
            " '2=Fibrosis' '2=Fibrosis' '2=Fibrosis' '2=Fibrosis' '2=Fibrosis'\n",
            " '2=Fibrosis' '2=Fibrosis' '2=Fibrosis' '2=Fibrosis' '2=Fibrosis'\n",
            " '2=Fibrosis' '3=Cirrhosis' '3=Cirrhosis' '3=Cirrhosis' '3=Cirrhosis'\n",
            " '3=Cirrhosis' '3=Cirrhosis' '3=Cirrhosis' '3=Cirrhosis' '3=Cirrhosis'\n",
            " '3=Cirrhosis' '3=Cirrhosis' '3=Cirrhosis' '3=Cirrhosis' '3=Cirrhosis'\n",
            " '3=Cirrhosis' '3=Cirrhosis' '3=Cirrhosis' '3=Cirrhosis' '3=Cirrhosis'\n",
            " '3=Cirrhosis' '3=Cirrhosis' '3=Cirrhosis' '3=Cirrhosis' '3=Cirrhosis'\n",
            " '3=Cirrhosis' '3=Cirrhosis' '3=Cirrhosis' '3=Cirrhosis' '3=Cirrhosis'\n",
            " '3=Cirrhosis']\n"
          ],
          "output_type":"stream"
        }
      ],
      "metadata":{
        "datalore":{
          "sheet_delimiter":false
        }
      }
    },
    {
      "cell_type":"code",
      "source":[
        "from sklearn.preprocessing import LabelEncoder\n",
        "#encode all categorical values as digits\n",
        "labelencoder_X = LabelEncoder()\n",
        "X[:, 1] = labelencoder_X.fit_transform(X[:, 1])\n",
        "print(X[:3])\n",
        "y = labelencoder_X.fit_transform(y)\n",
        "\n",
        "#Binary encoding of target variable\n",
        "for i, digit in enumerate(y):\n",
        "    if digit > 1:\n",
        "        y[i] = 1\n",
        "print(y)"
      ],
      "execution_count":5,
      "outputs":[
        {
          "name":"stdout",
          "text":[
            "[[32 1 38.5 52.5 7.7 22.1 7.5 6.93 3.23 106.0 12.1 69.0]\n",
            " [32 1 38.5 70.3 18.0 24.7 3.9 11.17 4.8 74.0 15.6 76.5]\n",
            " [32 1 46.9 74.7 36.2 52.6 6.1 8.84 5.2 86.0 33.2 79.3]]\n",
            "[0 0 0 0 0 0 0 0 0 0 0 0 0 0 0 0 0 0 0 0 0 0 0 0 0 0 0 0 0 0 0 0 0 0 0 0 0\n",
            " 0 0 0 0 0 0 0 0 0 0 0 0 0 0 0 0 0 0 0 0 0 0 0 0 0 0 0 0 0 0 0 0 0 0 0 0 0\n",
            " 0 0 0 0 0 0 0 0 0 0 0 0 0 0 0 0 0 0 0 0 0 0 0 0 0 0 0 0 0 0 0 0 0 0 0 0 0\n",
            " 0 0 0 0 0 0 0 0 0 0 0 0 0 0 0 0 0 0 0 0 0 0 0 0 0 0 0 0 0 0 0 0 0 0 0 0 0\n",
            " 0 0 0 0 0 0 0 0 0 0 0 0 0 0 0 0 0 0 0 0 0 0 0 0 0 0 0 0 0 0 0 0 0 0 0 0 0\n",
            " 0 0 0 0 0 0 0 0 0 0 0 0 0 0 0 0 0 0 0 0 0 0 0 0 0 0 0 0 0 0 0 0 0 0 0 0 0\n",
            " 0 0 0 0 0 0 0 0 0 0 0 0 0 0 0 0 0 0 0 0 0 0 0 0 0 0 0 0 0 0 0 0 0 0 0 0 0\n",
            " 0 0 0 0 0 0 0 0 0 0 0 0 0 0 0 0 0 0 0 0 0 0 0 0 0 0 0 0 0 0 0 0 0 0 0 0 0\n",
            " 0 0 0 0 0 0 0 0 0 0 0 0 0 0 0 0 0 0 0 0 0 0 0 0 0 0 0 0 0 0 0 0 0 0 0 0 0\n",
            " 0 0 0 0 0 0 0 0 0 0 0 0 0 0 0 0 0 0 0 0 0 0 0 0 0 0 0 0 0 0 0 0 0 0 0 0 0\n",
            " 0 0 0 0 0 0 0 0 0 0 0 0 0 0 0 0 0 0 0 0 0 0 0 0 0 0 0 0 0 0 0 0 0 0 0 0 0\n",
            " 0 0 0 0 0 0 0 0 0 0 0 0 0 0 0 0 0 0 0 0 0 0 0 0 0 0 0 0 0 0 0 0 0 0 0 0 0\n",
            " 0 0 0 0 0 0 0 0 0 0 0 0 0 0 0 0 0 0 0 0 0 0 0 0 0 0 0 0 0 0 0 0 0 0 0 0 0\n",
            " 0 0 0 0 0 0 0 0 0 0 0 0 0 0 0 0 0 0 0 0 0 0 0 0 0 0 0 0 0 0 0 0 0 0 0 0 0\n",
            " 0 0 0 0 0 0 0 0 0 0 0 0 0 0 0 1 1 1 1 1 1 1 1 1 1 1 1 1 1 1 1 1 1 1 1 1 1\n",
            " 1 1 1 1 1 1 1 1 1 1 1 1 1 1 1 1 1 1 1 1 1 1 1 1 1 1 1 1 1 1 1 1 1 1 1 1 1\n",
            " 1 1 1 1 1 1 1 1 1 1 1 1 1 1 1 1]\n"
          ],
          "output_type":"stream"
        }
      ],
      "metadata":{
        "datalore":{
          "sheet_delimiter":false
        }
      }
    },
    {
      "cell_type":"code",
      "source":[
        "from sklearn.preprocessing import OneHotEncoder\n",
        "#encode categorical variable in 2 different attributes (man vs female) where 1 = true and 0 = false\n",
        "onehotencoder = OneHotEncoder()\n",
        "encoded_cols = onehotencoder.fit_transform(X[:, 1].reshape(-1,1)).toarray()\n",
        "X[:, 1] = encoded_cols[:, 0]\n",
        "X = np.insert(X, 2, encoded_cols[:, 1], axis=1)\n",
        "print(X[-3:])"
      ],
      "execution_count":6,
      "outputs":[
        {
          "name":"stdout",
          "text":[
            "[[64 1.0 0.0 29.0 87.3 3.5 99.0 48.0 1.66 3.63 66.7 64.2 82.0]\n",
            " [46 1.0 0.0 33.0 67.82101694915255 39.0 62.0 20.0 3.56 4.2 52.0 50.0\n",
            "  71.0]\n",
            " [59 1.0 0.0 36.0 67.82101694915255 100.0 80.0 12.0 9.07 5.3 67.0 34.0\n",
            "  68.0]]\n"
          ],
          "output_type":"stream"
        }
      ],
      "metadata":{
        "datalore":{
          "sheet_delimiter":false
        }
      }
    },
    {
      "cell_type":"code",
      "source":[
        "import matplotlib.pyplot as plt\n",
        "\n",
        "#boxplots of attributes and histogram of variable gender\n",
        "fig,ax = plt.subplots(4,3,figsize=(8,7))\n",
        "ax = ax.ravel()\n",
        "for attribute in range(len(X[0])):\n",
        "    plot_position = attribute\n",
        "    if attribute != 1 and attribute != 2:\n",
        "        if attribute > 2:\n",
        "            plot_position -= 2\n",
        "        ax[plot_position].boxplot(X[:,attribute])\n",
        "        ax[plot_position].set_title(attribute_labels[attribute])\n",
        "        if attribute ==0:\n",
        "            ax[plot_position].set_ylabel(\"years\")\n",
        "        else:\n",
        "            ax[plot_position].set_ylabel(\"enzyme concentration\")\n",
        "            \n",
        "\n",
        "ax[11].hist([X[:,1]])\n",
        "ax[11].set_title(\"Sex\")\n",
        "ax[11].set_ylabel(\"count\")\n",
        "plt.xticks(range(2), [\"male\", \"female\"])\n",
        "plt.tight_layout()\n",
        "plt.show()\n",
        "print(\"Figure: Boxplots of the explanatory variables\")\n",
        "\n",
        "#histogram of target variable\n",
        "plt.figure()\n",
        "plt.hist(y)\n",
        "plt.xticks(range(2), [\"Blood Donor\", \"Hepatitis C\"])\n",
        "plt.show()"
      ],
      "execution_count":7,
      "outputs":[
        {
          "name":"stdout",
          "text":[
            "Figure: Boxplots of the explanatory variables\n"
          ],
          "output_type":"stream"
        },
        {
          "data":{
            "image\/png":"[encoded data removed]"
          },
          "metadata":{
            "image\/png":{
              
            }
          },
          "output_type":"display_data"
        }
      ],
      "metadata":{
        "datalore":{
          "sheet_delimiter":false
        }
      }
    },
    {
      "cell_type":"code",
      "source":[
        "from sklearn.preprocessing import StandardScaler\n",
        "\n",
        "#standardize explanatory variables\n",
        "X_standardized = StandardScaler().fit_transform(X)"
      ],
      "execution_count":8,
      "outputs":[
        
      ],
      "metadata":{
        "datalore":{
          "sheet_delimiter":false
        }
      }
    },
    {
      "cell_type":"code",
      "source":[
        "#mean center data\n",
        "X = X.astype(\"float64\")\n",
        "\n",
        "μ = np.mean(X, axis=0)\n",
        "\n",
        "Y = X - μ\n",
        "\n",
        "#apply PCA\n",
        "SVD_Y = np.linalg.svd(Y)\n",
        "U = SVD_Y[0]\n",
        "S = SVD_Y[1]\n",
        "V = np.transpose(SVD_Y[2])\n",
        "\n",
        "Z = np.dot(Y, V)\n",
        "\n",
        "scatter_pc1_pc2 = plt.figure()\n",
        "\n",
        "plt.show()\n",
        "\n",
        "# YOUR CODE HERE\n",
        "indices = np.arange(5,15)\n",
        "plt.scatter(Z[:,0],Z[:,1], alpha = 0.5)\n",
        "plt.xlabel('First Principal Component')\n",
        "plt.ylabel('Second Principal Component')\n",
        "plt.title('Projection of data onto first two PCs')\n",
        "plt.show()\n",
        "print('Figure: First PC plotted on the X-axis and Second PC plotted on the Y-axis')"
      ],
      "execution_count":9,
      "outputs":[
        {
          "name":"stdout",
          "text":[
            "Figure: First PC plotted on the X-axis and Second PC plotted on the Y-axis\n"
          ],
          "output_type":"stream"
        },
        {
          "data":{
            "text\/plain":[
              "<Figure size 432x288 with 0 Axes>"
            ],
            "image\/png":"[encoded data removed]"
          },
          "metadata":{
            "image\/png":{
              
            }
          },
          "output_type":"display_data"
        }
      ],
      "metadata":{
        "datalore":{
          "sheet_delimiter":false
        }
      }
    },
    {
      "cell_type":"code",
      "source":[
        "#bar graph of variance of each principle component\n",
        "rho = np.square(S)\/np.sum(np.square(S))\n",
        "\n",
        "variance_bar_plot = plt.figure()\n",
        "plt.bar(np.arange(len(rho)),rho)\n",
        "plt.title('')\n",
        "plt.xlabel('Principal Components')\n",
        "plt.ylabel('Variance')\n",
        "plt.show()\n",
        "variance_first_2_pcs = np.sum(rho[0:2])\/np.sum(rho)\n",
        "print(variance_first_2_pcs)"
      ],
      "execution_count":10,
      "outputs":[
        {
          "name":"stdout",
          "text":[
            "0.7263839881710975\n"
          ],
          "output_type":"stream"
        },
        {
          "data":{
            "image\/png":"[encoded data removed]"
          },
          "metadata":{
            "image\/png":{
              
            }
          },
          "output_type":"display_data"
        }
      ],
      "metadata":{
        "datalore":{
          "sheet_delimiter":false
        }
      }
    },
    {
      "cell_type":"code",
      "source":[
        "#representation of each attribute in the first two PC's\n",
        "print(V[:,0])\n",
        "print(V[:,1])"
      ],
      "execution_count":11,
      "outputs":[
        {
          "name":"stdout",
          "text":[
            "[ 2.34327404e-02 -1.58493831e-03  1.58493831e-03 -1.14816027e-02\n",
            "  1.95765911e-01  6.86424687e-02  3.26960964e-01  9.91752251e-02\n",
            " -4.54852757e-03 -7.62085780e-04  3.53168237e-01  8.45440668e-01\n",
            "  4.44753367e-03]\n",
            "[-1.38534785e-02 -8.16542704e-04  8.16542704e-04  3.95056775e-03\n",
            "  1.29642408e-02 -6.26207622e-02 -2.18113050e-01 -4.44752793e-02\n",
            "  2.38214588e-03 -5.36786929e-04  9.26829751e-01 -2.95017394e-01\n",
            " -9.78487364e-03]\n"
          ],
          "output_type":"stream"
        }
      ],
      "metadata":{
        "datalore":{
          "sheet_delimiter":false
        }
      }
    },
    {
      "cell_type":"markdown",
      "source":[
        "## Tuning the hyperparamters"
      ],
      "attachments":{
        
      },
      "metadata":{
        "datalore":{
          "sheet_delimiter":false
        }
      }
    },
    {
      "cell_type":"markdown",
      "source":[
        "### KNN Classifier"
      ],
      "attachments":{
        
      },
      "metadata":{
        "datalore":{
          "sheet_delimiter":false
        }
      }
    },
    {
      "cell_type":"code",
      "source":[
        "from sklearn.metrics import accuracy_score\n",
        "from sklearn.model_selection import StratifiedKFold\n",
        "from sklearn.neighbors import KNeighborsClassifier\n",
        "from imblearn.over_sampling import SMOTE #pip install imblearn\n",
        "\n",
        "#hypertuning the KNN classifier using stratified 10-fold cross validation\n",
        "kf = StratifiedKFold(n_splits=10)\n",
        "accuracies = np.zeros(shape = (10, 80))\n",
        "false_negatives = np.zeros(shape = (10, 80))\n",
        "false_positives = np.zeros(shape = (10, 80))\n",
        "true_negatives = np.zeros(shape = (10, 80))\n",
        "true_positives = np.zeros(shape = (10, 80))\n",
        "ks = [i for i in range(1, 81)]\n",
        "for i, (train, test) in enumerate(kf.split(X_standardized, y)):\n",
        "    X_train = X[train]\n",
        "    X_test = X[test]\n",
        "    y_train = y[train]\n",
        "    y_test = y[test]\n",
        "    sm = SMOTE()\n",
        "    X_train, y_train = sm.fit_resample(X_train, y_train)\n",
        "    for k in range(1, 81):\n",
        "        clf = KNeighborsClassifier(n_neighbors = k, metric = \"cityblock\").fit(X_train, y_train)\n",
        "        predictions = clf.predict(X_test)\n",
        "        accuracies[i][k - 1] = accuracy_score(y_test, predictions)\n",
        "        FP = len([digit for digit in range(len(y_test)) if y_test[digit] == 0 and predictions[digit] == 1])\n",
        "        TN = len([digit for digit in range(len(y_test)) if y_test[digit] == predictions[digit] == 0])\n",
        "        TP = len([digit for digit in range(len(y_test)) if y_test[digit] == predictions[digit] == 1])\n",
        "        FN = len([digit for digit in range(len(y_test)) if y_test[digit] == 1 and predictions[digit] == 0])\n",
        "        false_negatives[i][k - 1] = FN\n",
        "        false_positives[i][k - 1] = FP\n",
        "        true_negatives[i][k - 1] = TN\n",
        "        true_positives[i][k - 1] = TP\n",
        "\n",
        "precision = np.divide(np.sum(true_positives, axis=0), (np.add(np.sum(true_positives, axis=0), np.sum(false_positives, axis=0))))\n",
        "recall = np.divide(np.sum(true_positives, axis=0), (np.add(np.sum(true_positives, axis=0), np.sum(false_negatives, axis=0))))\n",
        "accuracy = np.mean(accuracies, axis=0)\n",
        "plt.plot(ks, accuracy, label = \"Accuracy\")\n",
        "plt.plot(ks, precision, label = \"Precision\")\n",
        "plt.plot(ks, recall, label = \"Recall\")\n",
        "plt.title(\"Different metric scores as a function of k neighbours\")\n",
        "plt.xlabel(\"k neighbours\")\n",
        "plt.ylabel(\"Metric scores\")\n",
        "plt.legend()\n",
        "plt.show()\n",
        "print(\"Figure: Scores of Accuracy, Precision and Recall as a function of k-neighbours using stratified 10-fold cross-validation with cityblock similarity is shown above\")"
      ],
      "execution_count":12,
      "outputs":[
        {
          "name":"stdout",
          "text":[
            "Figure: Scores of Accuracy, Precision and Recall as a function of k-neighbours using stratified 10-fold cross-validation with cityblock similarity is shown above\n"
          ],
          "output_type":"stream"
        },
        {
          "data":{
            "image\/png":"[encoded data removed]"
          },
          "metadata":{
            "image\/png":{
              
            }
          },
          "output_type":"display_data"
        }
      ],
      "metadata":{
        "datalore":{
          "sheet_delimiter":false
        }
      }
    },
    {
      "cell_type":"markdown",
      "source":[
        "### Decision Tree"
      ],
      "attachments":{
        
      },
      "metadata":{
        "datalore":{
          "sheet_delimiter":false
        }
      }
    },
    {
      "cell_type":"code",
      "source":[
        "from sklearn.metrics import accuracy_score\n",
        "from sklearn.model_selection import StratifiedKFold\n",
        "from sklearn import tree\n",
        "from imblearn.over_sampling import SMOTE\n",
        "\n",
        "#hypertuning the DT classifier using stratified 10-fold cross validation\n",
        "kf = StratifiedKFold(n_splits=10)\n",
        "accuracies = np.zeros(shape = (10, 20))\n",
        "false_negatives = np.zeros(shape = (10, 20))\n",
        "false_positives = np.zeros(shape = (10, 20))\n",
        "true_negatives = np.zeros(shape = (10, 20))\n",
        "true_positives = np.zeros(shape = (10, 20))\n",
        "depths = [i for i in range(1, 21)]\n",
        "for i, (train, test) in enumerate(kf.split(X, y)):\n",
        "    X_train = X[train]\n",
        "    X_test = X[test]\n",
        "    y_train = y[train]\n",
        "    y_test = y[test]\n",
        "    sm = SMOTE()\n",
        "    X_train, y_train = sm.fit_resample(X_train, y_train)\n",
        "    for depth in range(1, 21):\n",
        "        dtc = tree.DecisionTreeClassifier(criterion='entropy', max_depth = depth).fit(X_train, y_train)\n",
        "        predictions = dtc.predict(X_test)\n",
        "        accuracies[i][depth - 1] = accuracy_score(y_test, predictions)\n",
        "        FP = len([digit for digit in range(len(y_test)) if y_test[digit] == 0 and predictions[digit] == 1])\n",
        "        TN = len([digit for digit in range(len(y_test)) if y_test[digit] == predictions[digit] == 0])\n",
        "        TP = len([digit for digit in range(len(y_test)) if y_test[digit] == predictions[digit] == 1])\n",
        "        FN = len([digit for digit in range(len(y_test)) if y_test[digit] == 1 and predictions[digit] == 0])\n",
        "        false_negatives[i][depth - 1] = FN\n",
        "        false_positives[i][depth - 1] = FP\n",
        "        true_negatives[i][depth - 1] = TN\n",
        "        true_positives[i][depth - 1] = TP\n",
        "\n",
        "precision = np.divide(np.sum(true_positives, axis=0), (np.add(np.sum(true_positives, axis=0), np.sum(false_positives, axis=0))))\n",
        "recall = np.divide(np.sum(true_positives, axis=0), (np.add(np.sum(true_positives, axis=0), np.sum(false_negatives, axis=0))))\n",
        "accuracy = np.mean(accuracies, axis=0)\n",
        "plt.plot(depths, accuracy, label = \"Accuracy\")\n",
        "plt.plot(depths, precision, label = \"Precision\")\n",
        "plt.plot(depths, recall, label = \"Recall\")\n",
        "plt.title(\"Different metric scores as a function of depth\")\n",
        "plt.xlabel(\"depth\")\n",
        "plt.ylabel(\"Metric scores\")\n",
        "plt.legend()\n",
        "plt.show()\n",
        "print(\"Figure: Scores of Accuracy, Precision and Recall as a function of depth using stratified 10-fold cross-validation with entropy measure is shown above\")"
      ],
      "execution_count":13,
      "outputs":[
        {
          "name":"stdout",
          "text":[
            "Figure: Scores of Accuracy, Precision and Recall as a function of depth using stratified 10-fold cross-validation with entropy measure is shown above\n"
          ],
          "output_type":"stream"
        },
        {
          "data":{
            "image\/png":"[encoded data removed]"
          },
          "metadata":{
            "image\/png":{
              
            }
          },
          "output_type":"display_data"
        }
      ],
      "metadata":{
        "datalore":{
          "sheet_delimiter":false
        }
      }
    },
    {
      "cell_type":"markdown",
      "source":[
        "### Support Vector Machine"
      ],
      "attachments":{
        
      },
      "metadata":{
        "datalore":{
          "sheet_delimiter":false
        }
      }
    },
    {
      "cell_type":"code",
      "source":[
        "from sklearn.svm import SVC\n",
        "\n",
        "\n",
        "#hypertuning the SVM classifier using stratified 10-fold cross validation\n",
        "kf = StratifiedKFold(n_splits = 10)\n",
        "accuracies = np.zeros(shape = (10, 80))\n",
        "false_negatives = np.zeros(shape = (10, 80))\n",
        "false_positives = np.zeros(shape = (10, 80))\n",
        "true_negatives = np.zeros(shape = (10, 80))\n",
        "true_positives = np.zeros(shape = (10, 80))\n",
        "cs = [i for i in range(1, 81)]\n",
        "for i, (train, test) in enumerate(kf.split(X_standardized, y)):\n",
        "    X_train = X[train]\n",
        "    X_test = X[test]\n",
        "    y_train = y[train]\n",
        "    y_test = y[test]\n",
        "    sm = SMOTE()\n",
        "    X_train, y_train = sm.fit_resample(X_train, y_train)\n",
        "    for c in range(1, 81):\n",
        "        svmc = SVC(kernel='poly', degree = 2, C=c).fit(X_train, y_train)\n",
        "        predictions = svmc.predict(X_test)\n",
        "        accuracies[i][c - 1] = accuracy_score(y_test, predictions)\n",
        "        FP = len([digit for digit in range(len(y_test)) if y_test[digit] == 0 and predictions[digit] == 1])\n",
        "        TN = len([digit for digit in range(len(y_test)) if y_test[digit] == predictions[digit] == 0])\n",
        "        TP = len([digit for digit in range(len(y_test)) if y_test[digit] == predictions[digit] == 1])\n",
        "        FN = len([digit for digit in range(len(y_test)) if y_test[digit] == 1 and predictions[digit] == 0])\n",
        "        false_negatives[i][c - 1] = FN\n",
        "        false_positives[i][c - 1] = FP\n",
        "        true_negatives[i][c - 1] = TN\n",
        "        true_positives[i][c - 1] = TP\n",
        "\n",
        "\n",
        "precision = np.divide(np.sum(true_positives, axis=0), (np.add(np.sum(true_positives, axis=0), np.sum(false_positives, axis=0))))\n",
        "recall = np.divide(np.sum(true_positives, axis=0), (np.add(np.sum(true_positives, axis=0), np.sum(false_negatives, axis=0))))\n",
        "accuracy = np.mean(accuracies, axis=0)\n",
        "plt.plot(cs, accuracy, label = \"Accuracy\")\n",
        "plt.plot(cs, precision, label = \"Precision\")\n",
        "plt.plot(cs, recall, label = \"Recall\")\n",
        "plt.title(\"Different metric scores as a function of C\")\n",
        "plt.xlabel(\"C\")\n",
        "plt.ylabel(\"Metric scores\")\n",
        "plt.legend()\n",
        "plt.show()\n",
        "print(\"Figure: Scores of Accuracy, Precision and Recall as a function of C using stratified 10-fold cross-validation with a polynomial kernel is shown above\")\n",
        "    "
      ],
      "execution_count":14,
      "outputs":[
        {
          "name":"stdout",
          "text":[
            "Figure: Scores of Accuracy, Precision and Recall as a function of C using stratified 10-fold cross-validation with a polynomial kernel is shown above\n"
          ],
          "output_type":"stream"
        },
        {
          "data":{
            "image\/png":"[encoded data removed]"
          },
          "metadata":{
            "image\/png":{
              
            }
          },
          "output_type":"display_data"
        }
      ],
      "metadata":{
        "datalore":{
          "sheet_delimiter":false
        }
      }
    },
    {
      "cell_type":"markdown",
      "source":[
        "## Results"
      ],
      "attachments":{
        
      },
      "metadata":{
        "datalore":{
          "sheet_delimiter":false
        }
      }
    },
    {
      "cell_type":"code",
      "source":[
        "import seaborn as sn\n",
        "import pandas as pd\n",
        "import numpy as np\n",
        "import matplotlib.pyplot as plt\n",
        "\n",
        "#function to plot confusion matrix\n",
        "def plot_confusion_matrix(cm,y):\n",
        "    df_cm = pd.DataFrame(cm, index = [\"Hepatitis C\" if i == 1 else \"Blood donor\" for i in np.unique(y)],\n",
        "                  columns = [\"Hepatitis C\" if i == 1 else \"Blood donor\" for i in np.unique(y)])\n",
        "    plt.figure()\n",
        "    sn.heatmap(df_cm, annot=True)\n",
        "    plt.title('Confusion matrix')\n",
        "    plt.xlabel('Predicted class')\n",
        "    plt.ylabel('Actual class')\n",
        "    plt.show()"
      ],
      "execution_count":15,
      "outputs":[
        
      ],
      "metadata":{
        "datalore":{
          "sheet_delimiter":false
        }
      }
    },
    {
      "cell_type":"code",
      "source":[
        "from imblearn.over_sampling import SMOTE\n",
        "from sklearn.model_selection import train_test_split\n",
        "from sklearn.metrics import confusion_matrix\n",
        "from sklearn.metrics import roc_curve\n",
        "from sklearn.metrics import recall_score\n",
        "from sklearn.metrics import precision_score\n",
        "from sklearn.ensemble import VotingClassifier\n",
        "from sklearn.metrics import PrecisionRecallDisplay\n",
        "\n",
        "#obtaining the results of the classifiers using a single stratified train, test split with test size of 33%\n",
        "random_state = 1337\n",
        "X_train, X_test, y_train, y_test = train_test_split(X, y, test_size=0.33, random_state = random_state, stratify = y)\n",
        "sm = SMOTE()\n",
        "X_train, y_train = sm.fit_resample(X_train, y_train)\n",
        "#--- The K-Nearest Neighbour Classifier ---\n",
        "KNN = KNeighborsClassifier(n_neighbors = 11, metric = \"cityblock\").fit(X_train, y_train)\n",
        "KNN_predictions = KNN.predict(X_test)\n",
        "KNN_matrix = confusion_matrix(y_test, KNN_predictions)\n",
        "plot_confusion_matrix(KNN_matrix, y)\n",
        "print(\"Accuracy KNN: \" + str(accuracy_score(y_test, KNN_predictions)))\n",
        "print(\"Precision KNN: \" + str(precision_score(y_test, KNN_predictions)))\n",
        "print(\"Recall KNN: \" + str(recall_score(y_test, KNN_predictions)))\n",
        "KNN_probs = KNN.predict_proba(X_test)[:, 1]\n",
        "FP_KNN, TP_KNN, _ = roc_curve(y_test, KNN_probs)\n",
        "\n",
        "#--- The Decision Tree Classifier ---\n",
        "DT = tree.DecisionTreeClassifier(criterion='entropy', max_depth = 2).fit(X_train, y_train)\n",
        "DT_predictions = DT.predict(X_test)\n",
        "DT_matrix = confusion_matrix(y_test, DT_predictions)\n",
        "plot_confusion_matrix(DT_matrix, y)\n",
        "print(\"Accuracy DT: \" + str(accuracy_score(y_test, DT_predictions)))\n",
        "print(\"Precision DT: \" + str(precision_score(y_test, DT_predictions)))\n",
        "print(\"Recall DT: \" + str(recall_score(y_test, DT_predictions)))\n",
        "DT_probs = DT.predict_proba(X_test)[:, 1]\n",
        "FP_DT, TP_DT, _ = roc_curve(y_test, DT_probs)\n",
        "\n",
        "#--- The Support Vector Machine Classifier ---\n",
        "SVM = SVC(kernel='rbf', C=6, probability=True).fit(X_train, y_train)\n",
        "SVM_predictions = SVM.predict(X_test)\n",
        "SVM_matrix = confusion_matrix(y_test, SVM_predictions)\n",
        "plot_confusion_matrix(SVM_matrix, y)\n",
        "print(\"Accuracy SVM: \" + str(accuracy_score(y_test, SVM_predictions)))\n",
        "print(\"Precision SVM: \" + str(precision_score(y_test, SVM_predictions)))\n",
        "print(\"Recall SVM: \" + str(recall_score(y_test, SVM_predictions)))\n",
        "SVM_probs = SVM.predict_proba(X_test)[:, 1]\n",
        "FP_SVM, TP_SVM, _ = roc_curve(y_test, SVM_probs)\n",
        "\n",
        "#--- The ensemble classifier---\n",
        "estimators = []\n",
        "estimators.append(('KNN', KNN))\n",
        "estimators.append(('DT', DT))\n",
        "estimators.append(('SVM', SVM))\n",
        "ensemble = VotingClassifier(estimators, voting='soft').fit(X_train,y_train)\n",
        "ensemble_predictions = ensemble.predict(X_test)\n",
        "ensemble_matrix = confusion_matrix(y_test, ensemble_predictions)\n",
        "plot_confusion_matrix(ensemble_matrix, y)\n",
        "print(\"Accuracy Ensemble: \" + str(accuracy_score(y_test, ensemble_predictions)))\n",
        "print(\"Precision Ensemble: \" + str(precision_score(y_test, ensemble_predictions)))\n",
        "print(\"Recall Ensemble: \" + str(recall_score(y_test, ensemble_predictions)))\n",
        "ENS_probs = ensemble.predict_proba(X_test)[:, 1]\n",
        "\n",
        "#PR curve\n",
        "plt.figure()\n",
        "PrecisionRecallDisplay.from_predictions(y_test, KNN_probs, ax = plt.gca(), name = \"KNN\")\n",
        "PrecisionRecallDisplay.from_predictions(y_test, DT_probs, ax = plt.gca(), name = \"DT\")\n",
        "PrecisionRecallDisplay.from_predictions(y_test, SVM_probs, ax = plt.gca(), name = \"SVM\")\n",
        "PrecisionRecallDisplay.from_predictions(y_test, ENS_probs, ax = plt.gca(), name = \"Ensemble\")\n",
        "plt.legend()\n",
        "plt.xlabel('Recall')\n",
        "plt.ylabel('Precision')\n",
        "plt.title('PR Curves of the classifiers')\n",
        "plt.show()"
      ],
      "execution_count":16,
      "outputs":[
        {
          "name":"stdout",
          "text":[
            "Accuracy KNN: 0.9104477611940298\n",
            "Precision KNN: 0.6060606060606061\n",
            "Recall KNN: 0.8\n",
            "Accuracy DT: 0.8059701492537313\n",
            "Precision DT: 0.3870967741935484\n",
            "Recall DT: 0.96\n",
            "Accuracy SVM: 0.9552238805970149\n",
            "Precision SVM: 0.7666666666666667\n",
            "Recall SVM: 0.92\n",
            "Accuracy Ensemble: 0.9353233830845771\n",
            "Precision Ensemble: 0.6764705882352942\n",
            "Recall Ensemble: 0.92\n"
          ],
          "output_type":"stream"
        },
        {
          "data":{
            "image\/png":"[encoded data removed]"
          },
          "metadata":{
            "image\/png":{
              
            }
          },
          "output_type":"display_data"
        }
      ],
      "metadata":{
        "datalore":{
          "sheet_delimiter":false
        }
      }
    }
  ],
  "metadata":{
    
  },
  "nbformat":4,
  "nbformat_minor":0
}